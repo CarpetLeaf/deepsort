{
  "cells": [
    {
      "cell_type": "markdown",
      "metadata": {
        "colab_type": "text",
        "id": "view-in-github"
      },
      "source": [
        "<a href=\"https://colab.research.google.com/github/LeinMS/deep_sort/blob/develop/_new_deepsort.ipynb\" target=\"_parent\"><img src=\"https://colab.research.google.com/assets/colab-badge.svg\" alt=\"Open In Colab\"/></a>"
      ]
    },
    {
      "cell_type": "code",
      "execution_count": null,
      "metadata": {
        "id": "bI9dzSuEc05S"
      },
      "outputs": [],
      "source": [
        "# Clone repository\n",
        "\n",
        "# Setup work directory\n",
        "import os\n",
        "#path to the project\n",
        "os.chdir(\"D:/projects/deep_sort\")"
      ]
    },
    {
      "cell_type": "code",
      "execution_count": null,
      "metadata": {
        "id": "RPl-t_jec3xi"
      },
      "outputs": [],
      "source": [
        "# Install main dependencies\n",
        "\n",
        "%pip install -r requirements.txt -q\n",
        "%pip install ultralytics gdown torchreid -q"
      ]
    },
    {
      "cell_type": "code",
      "execution_count": null,
      "metadata": {
        "colab": {
          "base_uri": "https://localhost:8080/"
        },
        "id": "mmK96gDbc30C",
        "outputId": "e8d2956e-8c9a-464f-9601-0103720bf59d"
      },
      "outputs": [],
      "source": [
        "# GPU avaliability check\n",
        "\n",
        "import torch\n",
        "print(\"Is CUDA available: \", torch.cuda.is_available())"
      ]
    },
    {
      "cell_type": "code",
      "execution_count": null,
      "metadata": {
        "collapsed": true,
        "id": "2WqEIkBmc35a"
      },
      "outputs": [],
      "source": [
        "# Launch a first configuration SSD and osnet_x0_25\n",
        "\n",
        "!python run_batch.py configs/ssdlite320_torchreid.yaml\n",
        "\n",
        "print('finished')"
      ]
    },
    {
      "cell_type": "code",
      "execution_count": null,
      "metadata": {
        "collapsed": true,
        "id": "XokkGr4J9iyw"
      },
      "outputs": [],
      "source": [
        "# Launch a second configuration YOLOv5 and mobilenetv2_x1_0\n",
        "\n",
        "!python run_batch.py configs/yolov5_mobilenetv2.yaml\n",
        "\n",
        "print('finished')"
      ]
    },
    {
      "cell_type": "code",
      "execution_count": null,
      "metadata": {
        "id": "HhSS5u-DHmoa"
      },
      "outputs": [],
      "source": [
        "# Launch a third configuration YOLOv8 and Resnet18\n",
        "\n",
        "!python run_batch.py configs/yolov8_resnet18.yaml\n",
        "\n",
        "print('finished')\n"
      ]
    }
  ],
  "metadata": {
    "colab": {
      "authorship_tag": "ABX9TyPg2jN8i08msc7RMgnDMzhf",
      "include_colab_link": true,
      "provenance": []
    },
    "kernelspec": {
      "display_name": "Python 3",
      "language": "python",
      "name": "python3"
    },
    "language_info": {
      "codemirror_mode": {
        "name": "ipython",
        "version": 3
      },
      "file_extension": ".py",
      "mimetype": "text/x-python",
      "name": "python",
      "nbconvert_exporter": "python",
      "pygments_lexer": "ipython3",
      "version": "3.9.13"
    }
  },
  "nbformat": 4,
  "nbformat_minor": 0
}
